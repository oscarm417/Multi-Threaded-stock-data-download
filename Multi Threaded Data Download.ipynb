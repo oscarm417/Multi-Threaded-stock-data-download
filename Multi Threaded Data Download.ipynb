{
 "cells": [
  {
   "cell_type": "code",
   "execution_count": null,
   "id": "90fb4def",
   "metadata": {
    "scrolled": true
   },
   "outputs": [],
   "source": [
    "import pandas as pd\n",
    "import numpy as np \n",
    "import yfinance as yf\n",
    "from multiprocessing.dummy import Pool as ThreadPool \n",
    "import timeit\n",
    "tickers = pd.read_csv('allStocks.csv').columns[1:].tolist()\n",
    "pool = ThreadPool(20)\n",
    "\n",
    "def get_web_data(ticker):\n",
    "    #print(ticker)\n",
    "    try:\n",
    "        c = yf.download(ticker,threads= False)\n",
    "        return c\n",
    "    except:\n",
    "        return 0\n",
    "    \n",
    "start_time = timeit.default_timer()\n",
    "results = pool.map(get_web_data,tickers)\n",
    "print(timeit.default_timer() - start_time)\n"
   ]
  },
  {
   "cell_type": "code",
   "execution_count": 39,
   "id": "78d28f2c",
   "metadata": {},
   "outputs": [],
   "source": [
    "compiled = [(i[0],i[1]) for i in zip(tickers,results) ]"
   ]
  },
  {
   "cell_type": "code",
   "execution_count": 47,
   "id": "a6fb457a",
   "metadata": {},
   "outputs": [],
   "source": [
    "import pickle \n",
    "with open('stocksData.pkl', 'wb') as f:\n",
    "  pickle.dump(compiled, f)"
   ]
  },
  {
   "cell_type": "code",
   "execution_count": 48,
   "id": "a3b09f0d",
   "metadata": {},
   "outputs": [],
   "source": []
  },
  {
   "cell_type": "code",
   "execution_count": null,
   "id": "60751d7b",
   "metadata": {},
   "outputs": [],
   "source": []
  },
  {
   "cell_type": "code",
   "execution_count": null,
   "id": "59d2adef",
   "metadata": {},
   "outputs": [],
   "source": []
  }
 ],
 "metadata": {
  "kernelspec": {
   "display_name": "Python 3",
   "language": "python",
   "name": "python3"
  },
  "language_info": {
   "codemirror_mode": {
    "name": "ipython",
    "version": 3
   },
   "file_extension": ".py",
   "mimetype": "text/x-python",
   "name": "python",
   "nbconvert_exporter": "python",
   "pygments_lexer": "ipython3",
   "version": "3.8.8"
  }
 },
 "nbformat": 4,
 "nbformat_minor": 5
}
